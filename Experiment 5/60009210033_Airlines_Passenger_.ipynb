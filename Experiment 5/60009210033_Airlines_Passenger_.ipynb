{
  "nbformat": 4,
  "nbformat_minor": 0,
  "metadata": {
    "colab": {
      "provenance": []
    },
    "kernelspec": {
      "name": "python3",
      "display_name": "Python 3"
    },
    "language_info": {
      "name": "python"
    }
  },
  "cells": [
    {
      "cell_type": "code",
      "source": [
        "import pandas as pd\n",
        "from sklearn.preprocessing import LabelEncoder\n",
        "from sklearn.model_selection import train_test_split\n",
        "from sklearn.linear_model import LogisticRegression\n",
        "from sklearn.metrics import accuracy_score\n",
        "import pandas as pd\n",
        "from sklearn.preprocessing import LabelEncoder"
      ],
      "metadata": {
        "id": "C_QGCSc8LeH0"
      },
      "execution_count": null,
      "outputs": []
    },
    {
      "cell_type": "markdown",
      "source": [
        "# Load the data"
      ],
      "metadata": {
        "id": "dB2yEr_cNCcz"
      }
    },
    {
      "cell_type": "code",
      "source": [
        "train_df = pd.read_csv(\"train.csv\")\n",
        "test_df = pd.read_csv(\"test.csv\")\n",
        "print(train_df.head())\n",
        "print(test_df.head())"
      ],
      "metadata": {
        "colab": {
          "base_uri": "https://localhost:8080/"
        },
        "id": "h3oSZui7M_Cv",
        "outputId": "ea6ec93e-3123-40ec-cea9-291f991bfa0e"
      },
      "execution_count": null,
      "outputs": [
        {
          "output_type": "stream",
          "name": "stdout",
          "text": [
            "   Unnamed: 0      id  Gender      Customer Type  Age   Type of Travel  \\\n",
            "0           0   70172    Male     Loyal Customer   13  Personal Travel   \n",
            "1           1    5047    Male  disloyal Customer   25  Business travel   \n",
            "2           2  110028  Female     Loyal Customer   26  Business travel   \n",
            "3           3   24026  Female     Loyal Customer   25  Business travel   \n",
            "4           4  119299    Male     Loyal Customer   61  Business travel   \n",
            "\n",
            "      Class  Flight Distance  Inflight wifi service  \\\n",
            "0  Eco Plus              460                      3   \n",
            "1  Business              235                      3   \n",
            "2  Business             1142                      2   \n",
            "3  Business              562                      2   \n",
            "4  Business              214                      3   \n",
            "\n",
            "   Departure/Arrival time convenient  ...  Inflight entertainment  \\\n",
            "0                                  4  ...                       5   \n",
            "1                                  2  ...                       1   \n",
            "2                                  2  ...                       5   \n",
            "3                                  5  ...                       2   \n",
            "4                                  3  ...                       3   \n",
            "\n",
            "   On-board service  Leg room service  Baggage handling  Checkin service  \\\n",
            "0                 4                 3                 4                4   \n",
            "1                 1                 5                 3                1   \n",
            "2                 4                 3                 4                4   \n",
            "3                 2                 5                 3                1   \n",
            "4                 3                 4                 4                3   \n",
            "\n",
            "   Inflight service  Cleanliness  Departure Delay in Minutes  \\\n",
            "0                 5            5                          25   \n",
            "1                 4            1                           1   \n",
            "2                 4            5                           0   \n",
            "3                 4            2                          11   \n",
            "4                 3            3                           0   \n",
            "\n",
            "   Arrival Delay in Minutes             satisfaction  \n",
            "0                      18.0  neutral or dissatisfied  \n",
            "1                       6.0  neutral or dissatisfied  \n",
            "2                       0.0                satisfied  \n",
            "3                       9.0  neutral or dissatisfied  \n",
            "4                       0.0                satisfied  \n",
            "\n",
            "[5 rows x 25 columns]\n",
            "   Unnamed: 0     id  Gender      Customer Type  Age   Type of Travel  \\\n",
            "0           0  19556  Female     Loyal Customer   52  Business travel   \n",
            "1           1  90035  Female     Loyal Customer   36  Business travel   \n",
            "2           2  12360    Male  disloyal Customer   20  Business travel   \n",
            "3           3  77959    Male     Loyal Customer   44  Business travel   \n",
            "4           4  36875  Female     Loyal Customer   49  Business travel   \n",
            "\n",
            "      Class  Flight Distance  Inflight wifi service  \\\n",
            "0       Eco              160                      5   \n",
            "1  Business             2863                      1   \n",
            "2       Eco              192                      2   \n",
            "3  Business             3377                      0   \n",
            "4       Eco             1182                      2   \n",
            "\n",
            "   Departure/Arrival time convenient  ...  Inflight entertainment  \\\n",
            "0                                  4  ...                       5   \n",
            "1                                  1  ...                       4   \n",
            "2                                  0  ...                       2   \n",
            "3                                  0  ...                       1   \n",
            "4                                  3  ...                       2   \n",
            "\n",
            "   On-board service  Leg room service  Baggage handling  Checkin service  \\\n",
            "0                 5                 5                 5                2   \n",
            "1                 4                 4                 4                3   \n",
            "2                 4                 1                 3                2   \n",
            "3                 1                 1                 1                3   \n",
            "4                 2                 2                 2                4   \n",
            "\n",
            "   Inflight service  Cleanliness  Departure Delay in Minutes  \\\n",
            "0                 5            5                          50   \n",
            "1                 4            5                           0   \n",
            "2                 2            2                           0   \n",
            "3                 1            4                           0   \n",
            "4                 2            4                           0   \n",
            "\n",
            "   Arrival Delay in Minutes             satisfaction  \n",
            "0                      44.0                satisfied  \n",
            "1                       0.0                satisfied  \n",
            "2                       0.0  neutral or dissatisfied  \n",
            "3                       6.0                satisfied  \n",
            "4                      20.0                satisfied  \n",
            "\n",
            "[5 rows x 25 columns]\n"
          ]
        }
      ]
    },
    {
      "cell_type": "markdown",
      "source": [
        "# Combine the train and test data\n"
      ],
      "metadata": {
        "id": "1gaK0fOkNXZA"
      }
    },
    {
      "cell_type": "code",
      "source": [
        "all_data = pd.concat([train_df, test_df], axis=0)"
      ],
      "metadata": {
        "id": "YHFcivYHNUQv"
      },
      "execution_count": null,
      "outputs": []
    },
    {
      "cell_type": "markdown",
      "source": [
        "# Perform label encoding on combined data\n"
      ],
      "metadata": {
        "id": "4pjqYCa5Nfjb"
      }
    },
    {
      "cell_type": "code",
      "source": [
        "le = LabelEncoder()\n",
        "all_data[\"Gender\"] = le.fit_transform(all_data[\"Gender\"])\n",
        "all_data[\"Customer Type\"] = le.fit_transform(all_data[\"Customer Type\"])\n",
        "all_data[\"Type of Travel\"] = le.fit_transform(all_data[\"Type of Travel\"])\n",
        "all_data[\"Class\"] = le.fit_transform(all_data[\"Class\"])\n",
        "all_data[\"satisfaction\"] = le.fit_transform(all_data[\"satisfaction\"])"
      ],
      "metadata": {
        "id": "6rXI9uDrNcX6"
      },
      "execution_count": null,
      "outputs": []
    },
    {
      "cell_type": "markdown",
      "source": [
        "# Split the data back into train and test sets\n"
      ],
      "metadata": {
        "id": "EgfACjyjNlM2"
      }
    },
    {
      "cell_type": "code",
      "source": [
        "train_df = all_data[:train_df.shape[0]]\n",
        "test_df = all_data[train_df.shape[0]:]"
      ],
      "metadata": {
        "id": "_PYk5Nn2NjYz"
      },
      "execution_count": null,
      "outputs": []
    },
    {
      "cell_type": "markdown",
      "source": [
        "# Prepare the data\n"
      ],
      "metadata": {
        "id": "_OCeRPLaNsbc"
      }
    },
    {
      "cell_type": "code",
      "source": [
        "X_train = train_df.drop(columns=[\"satisfaction\"])\n",
        "y_train = train_df[\"satisfaction\"]\n",
        "X_test = test_df.drop(columns=[\"satisfaction\"])\n",
        "y_test = test_df[\"satisfaction\"]"
      ],
      "metadata": {
        "id": "VVXh_90xNqox"
      },
      "execution_count": null,
      "outputs": []
    },
    {
      "cell_type": "code",
      "source": [
        "from sklearn.impute import SimpleImputer\n",
        "imputer = SimpleImputer()\n",
        "X_train = imputer.fit_transform(X_train)\n",
        "X_test = imputer.transform(X_test)"
      ],
      "metadata": {
        "id": "PhK9QVntOvG4"
      },
      "execution_count": null,
      "outputs": []
    },
    {
      "cell_type": "markdown",
      "source": [
        "# With regularization"
      ],
      "metadata": {
        "id": "JwU_J-RWN6f9"
      }
    },
    {
      "cell_type": "code",
      "source": [
        "lr = LogisticRegression(penalty=\"l2\")\n",
        "lr.fit(X_train, y_train)\n",
        "y_pred = lr.predict(X_test)\n",
        "acc_with_reg = accuracy_score(y_test, y_pred)"
      ],
      "metadata": {
        "colab": {
          "base_uri": "https://localhost:8080/"
        },
        "id": "CZhoFYkON4BR",
        "outputId": "a275758f-9c56-42e8-994c-61f5a6abe6c2"
      },
      "execution_count": null,
      "outputs": [
        {
          "output_type": "stream",
          "name": "stderr",
          "text": [
            "/usr/local/lib/python3.9/dist-packages/sklearn/linear_model/_logistic.py:458: ConvergenceWarning: lbfgs failed to converge (status=1):\n",
            "STOP: TOTAL NO. of ITERATIONS REACHED LIMIT.\n",
            "\n",
            "Increase the number of iterations (max_iter) or scale the data as shown in:\n",
            "    https://scikit-learn.org/stable/modules/preprocessing.html\n",
            "Please also refer to the documentation for alternative solver options:\n",
            "    https://scikit-learn.org/stable/modules/linear_model.html#logistic-regression\n",
            "  n_iter_i = _check_optimize_result(\n"
          ]
        }
      ]
    },
    {
      "cell_type": "markdown",
      "source": [
        "# Without regularization"
      ],
      "metadata": {
        "id": "7T92ilcB_EC0"
      }
    },
    {
      "cell_type": "code",
      "source": [
        "lr = LogisticRegression(penalty=\"none\")\n",
        "lr.fit(X_train, y_train)\n",
        "y_pred = lr.predict(X_test)\n",
        "acc_no_reg = accuracy_score(y_test, y_pred)"
      ],
      "metadata": {
        "colab": {
          "base_uri": "https://localhost:8080/"
        },
        "id": "G8Bt3kIq--9U",
        "outputId": "c1f4baa4-2c75-4921-ade3-561844dc89fb"
      },
      "execution_count": null,
      "outputs": [
        {
          "output_type": "stream",
          "name": "stderr",
          "text": [
            "/usr/local/lib/python3.9/dist-packages/sklearn/linear_model/_logistic.py:1173: FutureWarning: `penalty='none'`has been deprecated in 1.2 and will be removed in 1.4. To keep the past behaviour, set `penalty=None`.\n",
            "  warnings.warn(\n",
            "/usr/local/lib/python3.9/dist-packages/sklearn/linear_model/_logistic.py:458: ConvergenceWarning: lbfgs failed to converge (status=1):\n",
            "STOP: TOTAL NO. of ITERATIONS REACHED LIMIT.\n",
            "\n",
            "Increase the number of iterations (max_iter) or scale the data as shown in:\n",
            "    https://scikit-learn.org/stable/modules/preprocessing.html\n",
            "Please also refer to the documentation for alternative solver options:\n",
            "    https://scikit-learn.org/stable/modules/linear_model.html#logistic-regression\n",
            "  n_iter_i = _check_optimize_result(\n"
          ]
        }
      ]
    },
    {
      "cell_type": "markdown",
      "source": [
        "# Compare the accuracies\n"
      ],
      "metadata": {
        "id": "T6ZR9OLsOIGh"
      }
    },
    {
      "cell_type": "code",
      "source": [
        "print(\"Accuracy without regularization:\", acc_no_reg)\n",
        "print(\"Accuracy with regularization:\", acc_with_reg)"
      ],
      "metadata": {
        "colab": {
          "base_uri": "https://localhost:8080/"
        },
        "id": "44ehq_KrODg7",
        "outputId": "4184d881-f3ea-43bd-fdd8-96f75860f1a0"
      },
      "execution_count": null,
      "outputs": [
        {
          "output_type": "stream",
          "name": "stdout",
          "text": [
            "Accuracy without regularization: 0.6561441330458885\n",
            "Accuracy with regularization: 0.652871881736988\n"
          ]
        }
      ]
    }
  ]
}