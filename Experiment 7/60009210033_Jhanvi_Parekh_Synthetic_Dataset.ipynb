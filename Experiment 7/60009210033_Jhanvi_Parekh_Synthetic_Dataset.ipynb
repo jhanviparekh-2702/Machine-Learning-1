{
  "nbformat": 4,
  "nbformat_minor": 0,
  "metadata": {
    "colab": {
      "provenance": []
    },
    "kernelspec": {
      "name": "python3",
      "display_name": "Python 3"
    },
    "language_info": {
      "name": "python"
    }
  },
  "cells": [
    {
      "cell_type": "markdown",
      "source": [
        "Question 1"
      ],
      "metadata": {
        "id": "RZ0XcH_ztx0j"
      }
    },
    {
      "cell_type": "code",
      "execution_count": null,
      "metadata": {
        "colab": {
          "base_uri": "https://localhost:8080/"
        },
        "id": "F6GjrVd9eDzB",
        "outputId": "a3e8d1d1-b67e-41c9-ef4a-19124ef97a4e"
      },
      "outputs": [
        {
          "output_type": "stream",
          "name": "stdout",
          "text": [
            "(1000, 10) (1000,)\n"
          ]
        }
      ],
      "source": [
        "from sklearn.datasets import make_classification\n",
        "X, y = make_classification(n_samples=1000, n_features=10, n_classes=2, random_state=42)\n",
        "print(X.shape,y.shape)"
      ]
    },
    {
      "cell_type": "code",
      "source": [
        "from sklearn.tree import DecisionTreeClassifier\n",
        "from sklearn.linear_model import LogisticRegression\n",
        "from sklearn.ensemble import AdaBoostClassifier\n",
        "from sklearn.model_selection import cross_val_score, KFold"
      ],
      "metadata": {
        "id": "B5r4XzBSfE3l"
      },
      "execution_count": null,
      "outputs": []
    },
    {
      "cell_type": "code",
      "source": [
        "cv = KFold(n_splits=5, shuffle=True, random_state=42)"
      ],
      "metadata": {
        "id": "ql5uPQBTfKZU"
      },
      "execution_count": null,
      "outputs": []
    },
    {
      "cell_type": "code",
      "source": [
        "dt_clf = DecisionTreeClassifier(random_state=42)\n",
        "lr_clf = LogisticRegression(random_state=42)\n",
        "\n",
        "dt_scores = cross_val_score(dt_clf, X, y, cv=cv)\n",
        "lr_scores = cross_val_score(lr_clf, X, y, cv=cv)\n",
        "\n",
        "print(f\"Decision Tree Classifier Scores: {dt_scores}\")\n",
        "print(f\"Mean Accuracy: {dt_scores.mean():.2f}\")\n",
        "\n",
        "print(f\"Logistic Regression Scores: {lr_scores}\")\n",
        "print(f\"Mean Accuracy: {lr_scores.mean():.2f}\")"
      ],
      "metadata": {
        "colab": {
          "base_uri": "https://localhost:8080/"
        },
        "id": "yfsqYGmlfpFU",
        "outputId": "63ed4e2e-fbbf-4244-ae32-847744ded062"
      },
      "execution_count": null,
      "outputs": [
        {
          "output_type": "stream",
          "name": "stdout",
          "text": [
            "Decision Tree Classifier Scores: [0.84  0.905 0.865 0.895 0.89 ]\n",
            "Mean Accuracy: 0.88\n",
            "Logistic Regression Scores: [0.83  0.875 0.87  0.85  0.865]\n",
            "Mean Accuracy: 0.86\n"
          ]
        }
      ]
    },
    {
      "cell_type": "code",
      "source": [
        "dt_ada_clf = AdaBoostClassifier(base_estimator=DecisionTreeClassifier(random_state=42), random_state=42)\n",
        "lr_ada_clf = AdaBoostClassifier(base_estimator=LogisticRegression(random_state=42), random_state=42)\n",
        "\n",
        "dt_ada_scores = cross_val_score(dt_ada_clf, X, y, cv=cv)\n",
        "lr_ada_scores = cross_val_score(lr_ada_clf, X, y, cv=cv)\n",
        "\n",
        "print(f\"AdaBoost with Decision Tree Classifier Scores: {dt_ada_scores}\")\n",
        "print(f\"Mean Accuracy: {dt_ada_scores.mean():.2f}\")\n",
        "\n",
        "print(f\"AdaBoost with Logistic Regression Scores: {lr_ada_scores}\")\n",
        "print(f\"Mean Accuracy: {lr_ada_scores.mean():.2f}\")"
      ],
      "metadata": {
        "colab": {
          "base_uri": "https://localhost:8080/"
        },
        "id": "5d_KSPILfr-1",
        "outputId": "de9fd608-453f-4631-d63d-26bac88b3e83"
      },
      "execution_count": null,
      "outputs": [
        {
          "output_type": "stream",
          "name": "stderr",
          "text": [
            "/usr/local/lib/python3.9/dist-packages/sklearn/ensemble/_base.py:166: FutureWarning: `base_estimator` was renamed to `estimator` in version 1.2 and will be removed in 1.4.\n",
            "  warnings.warn(\n",
            "/usr/local/lib/python3.9/dist-packages/sklearn/ensemble/_base.py:166: FutureWarning: `base_estimator` was renamed to `estimator` in version 1.2 and will be removed in 1.4.\n",
            "  warnings.warn(\n",
            "/usr/local/lib/python3.9/dist-packages/sklearn/ensemble/_base.py:166: FutureWarning: `base_estimator` was renamed to `estimator` in version 1.2 and will be removed in 1.4.\n",
            "  warnings.warn(\n",
            "/usr/local/lib/python3.9/dist-packages/sklearn/ensemble/_base.py:166: FutureWarning: `base_estimator` was renamed to `estimator` in version 1.2 and will be removed in 1.4.\n",
            "  warnings.warn(\n",
            "/usr/local/lib/python3.9/dist-packages/sklearn/ensemble/_base.py:166: FutureWarning: `base_estimator` was renamed to `estimator` in version 1.2 and will be removed in 1.4.\n",
            "  warnings.warn(\n",
            "/usr/local/lib/python3.9/dist-packages/sklearn/ensemble/_base.py:166: FutureWarning: `base_estimator` was renamed to `estimator` in version 1.2 and will be removed in 1.4.\n",
            "  warnings.warn(\n",
            "/usr/local/lib/python3.9/dist-packages/sklearn/ensemble/_base.py:166: FutureWarning: `base_estimator` was renamed to `estimator` in version 1.2 and will be removed in 1.4.\n",
            "  warnings.warn(\n",
            "/usr/local/lib/python3.9/dist-packages/sklearn/ensemble/_base.py:166: FutureWarning: `base_estimator` was renamed to `estimator` in version 1.2 and will be removed in 1.4.\n",
            "  warnings.warn(\n",
            "/usr/local/lib/python3.9/dist-packages/sklearn/ensemble/_base.py:166: FutureWarning: `base_estimator` was renamed to `estimator` in version 1.2 and will be removed in 1.4.\n",
            "  warnings.warn(\n"
          ]
        },
        {
          "output_type": "stream",
          "name": "stdout",
          "text": [
            "AdaBoost with Decision Tree Classifier Scores: [0.84  0.905 0.845 0.885 0.89 ]\n",
            "Mean Accuracy: 0.87\n",
            "AdaBoost with Logistic Regression Scores: [0.83  0.875 0.85  0.855 0.855]\n",
            "Mean Accuracy: 0.85\n"
          ]
        },
        {
          "output_type": "stream",
          "name": "stderr",
          "text": [
            "/usr/local/lib/python3.9/dist-packages/sklearn/ensemble/_base.py:166: FutureWarning: `base_estimator` was renamed to `estimator` in version 1.2 and will be removed in 1.4.\n",
            "  warnings.warn(\n"
          ]
        }
      ]
    },
    {
      "cell_type": "code",
      "source": [
        "print(f\"Decision Tree Classifier Scores: {dt_scores}\")\n",
        "print(f\"Mean Accuracy: {dt_scores.mean():.2f}\")\n",
        "\n",
        "print(f\"Logistic Regression Scores: {lr_scores}\")\n",
        "print(f\"Mean Accuracy: {lr_scores.mean():.2f}\")\n",
        "\n",
        "print(f\"AdaBoost with Decision Tree Classifier Scores: {dt_ada_scores}\")\n",
        "print(f\"Mean Accuracy: {dt_ada_scores.mean():.2f}\")\n",
        "\n",
        "print(f\"AdaBoost with Logistic Regression Scores: {lr_ada_scores}\")\n",
        "print(f\"Mean Accuracy: {lr_ada_scores.mean():.2f}\")"
      ],
      "metadata": {
        "colab": {
          "base_uri": "https://localhost:8080/"
        },
        "id": "Lml3KVLdfysk",
        "outputId": "fe230826-dc7c-46c5-c79a-3fc5b5f31126"
      },
      "execution_count": null,
      "outputs": [
        {
          "output_type": "stream",
          "name": "stdout",
          "text": [
            "Decision Tree Classifier Scores: [0.84  0.905 0.865 0.895 0.89 ]\n",
            "Mean Accuracy: 0.88\n",
            "Logistic Regression Scores: [0.83  0.875 0.87  0.85  0.865]\n",
            "Mean Accuracy: 0.86\n",
            "AdaBoost with Decision Tree Classifier Scores: [0.84  0.905 0.845 0.885 0.89 ]\n",
            "Mean Accuracy: 0.87\n",
            "AdaBoost with Logistic Regression Scores: [0.83  0.875 0.85  0.855 0.855]\n",
            "Mean Accuracy: 0.85\n"
          ]
        }
      ]
    }
  ]
}